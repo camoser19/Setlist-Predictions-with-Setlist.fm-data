{
 "cells": [
  {
   "cell_type": "code",
   "execution_count": 135,
   "metadata": {},
   "outputs": [],
   "source": [
    "import requests\n",
    "from bs4 import BeautifulSoup\n",
    "import pandas as pd\n",
    "import numpy as np\n",
    "from collections import OrderedDict"
   ]
  },
  {
   "cell_type": "markdown",
   "metadata": {},
   "source": [
    "<h2>Function 1: Get a Show's Info</h2>"
   ]
  },
  {
   "cell_type": "code",
   "execution_count": 136,
   "metadata": {},
   "outputs": [],
   "source": [
    "def get_all_show_info(url):\n",
    "    \n",
    "    #URL request/response cycle  \n",
    "    response = requests.get(url)\n",
    "    if response.status_code != 200:\n",
    "        print(\"Failure! Could not connect with setlist.fm -- output from Function 1\")\n",
    "    results_page = BeautifulSoup(response.content, 'lxml')\n",
    "    \n",
    "    all_show_info = list()\n",
    "    \n",
    "    #Part 1 -- Get the date \n",
    "    try:\n",
    "        full_date = results_page.find_all('div', class_=\"breadCrumbBar\")[0].find_all('span')[-1].get_text().rstrip('Setlist')\n",
    "        month, day, year = full_date.strip().replace(\",\",\"\").split(\" \")\n",
    "    except:\n",
    "        pass\n",
    "    \n",
    "    #Create a tuple of the date info and add it to the all_show_info list\n",
    "    try:\n",
    "        date_tuple = (month, day, year)\n",
    "        all_show_info.append(date_tuple)\n",
    "    except:\n",
    "        pass\n",
    "    \n",
    "    #Part 2 -- Get the location info\n",
    "    try:\n",
    "        header_info = results_page.find('h1').find_all('span')\n",
    "    except:\n",
    "        pass\n",
    "    \n",
    "    try:\n",
    "        location_info = header_info[3].find('span').get_text()\n",
    "    except:\n",
    "        pass\n",
    "    \n",
    "    try:\n",
    "        venue, city, state, country = location_info.split(\",\")\n",
    "    except:\n",
    "        pass\n",
    "    \n",
    "    try:\n",
    "        location_tuple = (venue, city, state, country) \n",
    "        all_show_info.append(location_tuple)\n",
    "    except:\n",
    "        pass\n",
    "        \n",
    "    #Part 3 -- Get the songs\n",
    "    setlist = list()\n",
    "    try:\n",
    "        set_list_list = results_page.find_all('a', 'songLabel')\n",
    "        for song in set_list_list:\n",
    "            setlist.append(song.get_text())\n",
    "   \n",
    "        setlist_tuple = tuple(setlist)\n",
    "        all_show_info.append(setlist_tuple)\n",
    "    \n",
    "    except:\n",
    "        pass\n",
    "    \n",
    "    return all_show_info"
   ]
  },
  {
   "cell_type": "markdown",
   "metadata": {},
   "source": [
    "<h4> Test out the function -- get_all_show_info</h4>"
   ]
  },
  {
   "cell_type": "code",
   "execution_count": 137,
   "metadata": {},
   "outputs": [
    {
     "name": "stdout",
     "output_type": "stream",
     "text": [
      "[('December', '31', '1984'), ('San Francisco  Civic Auditorium', ' San Francisco', ' CA', ' USA'), ('Shakedown Street', 'Minglewood Blues', 'Peggy-O', 'Jack Straw', 'Bird Song', 'Hell in a Bucket', \"Don't Ease Me In\", 'Sugar Magnolia', 'Scarlet Begonias', 'Fire on the Mountain', 'Man Smart, Woman Smarter', 'Drums', 'Space', 'Spanish Jam', 'The Wheel', 'Throwing Stones', 'Turn On Your Love Light', \"Gimme Some Lovin'\", \"Uncle John's Band\", 'Around and Around', \"It's All Over Now, Baby Blue\")]\n"
     ]
    }
   ],
   "source": [
    "show_data = get_all_show_info('https://www.setlist.fm/setlist/grateful-dead/1984/san-francisco-civic-auditorium-san-francisco-ca-53d607d9.html')\n",
    "print(show_data)\n"
   ]
  },
  {
   "cell_type": "code",
   "execution_count": 138,
   "metadata": {},
   "outputs": [],
   "source": [
    "show_data_output = get_all_show_info('https://www.setlist.fm/setlist/grateful-dead/1984/san-francisco-civic-auditorium-san-francisco-ca-53d607d9.html')\n"
   ]
  },
  {
   "cell_type": "markdown",
   "metadata": {},
   "source": [
    "<h2>Function 2: Add a show's info and setlist to a new dataframe</h2>"
   ]
  },
  {
   "cell_type": "code",
   "execution_count": 147,
   "metadata": {},
   "outputs": [],
   "source": [
    "def add_all_show_info_to_df(show_data_output):\n",
    "    from collections import OrderedDict\n",
    "    \n",
    "    try:\n",
    "        show_month = show_data_output[0][0]\n",
    "    except:\n",
    "        pass\n",
    "    \n",
    "    try:\n",
    "        show_day = show_data_output[0][1]\n",
    "    except:\n",
    "        pass\n",
    "    \n",
    "    try:\n",
    "        show_year = show_data_output[0][2]\n",
    "    except:\n",
    "        pass\n",
    "    \n",
    "    try:\n",
    "        show_venue = show_data_output[1][0] \n",
    "    except:\n",
    "        pass\n",
    "    \n",
    "    try:\n",
    "        show_city = show_data_output[1][1]\n",
    "    except:\n",
    "        pass\n",
    "    \n",
    "    try:\n",
    "        show_state = show_data_output[1][2]\n",
    "    except:\n",
    "        pass\n",
    "    \n",
    "    try:\n",
    "        show_country = show_data_output[1][3]\n",
    "    except:\n",
    "        pass\n",
    "    \n",
    "    show_as_index = \"%s-%s-%s\" % (show_year, show_month, show_day)\n",
    "    \n",
    "    try:\n",
    "        show_dict = {\n",
    "    'Index': [show_as_index], 'Year': [show_year], 'Month': [show_month], 'Day': [show_day],\n",
    "    'Venue': [show_venue], 'City': [show_city], \"State\": [show_state], \"Country\": [show_country]}\n",
    "    except:\n",
    "        pass\n",
    "    \n",
    "    try:\n",
    "        set_list = show_data_output[2]\n",
    "        song_dict = OrderedDict() #Create an ordered dict to hold the songs/setlist\n",
    "\n",
    "        for number, song_title in enumerate(set_list):\n",
    "            key = number+1 #This ensures the track listing starts at 1 instead of 0\n",
    "            pretty_key = \"Song\" + str(key) \n",
    "            value = song_title\n",
    "            song_dict[pretty_key] = value #Add each key, value to the ordered dict where key=Song# and value = track name\n",
    "\n",
    "        show_dict.update(song_dict) #Append/add the songs to the show dict\n",
    "    \n",
    "    except:\n",
    "        pass\n",
    "    \n",
    "    try:\n",
    "        show_dict\n",
    "    except:\n",
    "        column_list = ['Index','Year','Month','Day','Venue','City','State','Country' ]\n",
    "        df = pd.DataFrame(columns = column_list)\n",
    "    else: \n",
    "        df = pd.DataFrame(show_dict)\n",
    "    \n",
    "    return df"
   ]
  },
  {
   "cell_type": "markdown",
   "metadata": {},
   "source": [
    "<h2>Function 3: Get a show's info and create a dataframe of it</h2>"
   ]
  },
  {
   "cell_type": "code",
   "execution_count": 148,
   "metadata": {},
   "outputs": [],
   "source": [
    "def get_show_info_and_make_df(show_url):\n",
    "    show_info_as_list = get_all_show_info(str(show_url))\n",
    "    show_as_df = add_all_show_info_to_df(show_info_as_list)\n",
    "    return show_as_df\n",
    "    \n"
   ]
  },
  {
   "cell_type": "markdown",
   "metadata": {},
   "source": [
    "<h2>Function 4: Combine the first and subsequent show DFs</h2>"
   ]
  },
  {
   "cell_type": "code",
   "execution_count": 149,
   "metadata": {},
   "outputs": [],
   "source": [
    "def add_more_shows(first_show_df, second_show_df):\n",
    "    combo_df = first_show_df.append(second_show_df, ignore_index=True, sort=False)\n",
    "    return combo_df"
   ]
  },
  {
   "cell_type": "markdown",
   "metadata": {},
   "source": [
    "<h3>##################################################################</h3>"
   ]
  },
  {
   "cell_type": "markdown",
   "metadata": {},
   "source": [
    "<h2>Function 5: Search for an artist and return a link to their most recent shows</h2>"
   ]
  },
  {
   "cell_type": "code",
   "execution_count": 269,
   "metadata": {
    "scrolled": true
   },
   "outputs": [],
   "source": [
    "def find_an_artist():    \n",
    "    artist_name = input(\" Please enter the name of an artist\")\n",
    "    if ' ' in artist_name:\n",
    "        artist_name = artist_name.replace(\" \", \"%20\")    \n",
    "    url = \"https://www.setlist.fm/search?query=\" + artist_name\n",
    "\n",
    "    response = requests.get(url)\n",
    "    if response.status_code != 200:\n",
    "        print(\"Failed to connect with website -- output from Function 5\")\n",
    "\n",
    "    return url  "
   ]
  },
  {
   "cell_type": "markdown",
   "metadata": {},
   "source": [
    "<h4> Test out the function</h4>"
   ]
  },
  {
   "cell_type": "code",
   "execution_count": 270,
   "metadata": {},
   "outputs": [
    {
     "name": "stdout",
     "output_type": "stream",
     "text": [
      " Please enter the name of an artistbilly joel\n"
     ]
    },
    {
     "data": {
      "text/plain": [
       "'https://www.setlist.fm/search?query=billy%20joel'"
      ]
     },
     "execution_count": 270,
     "metadata": {},
     "output_type": "execute_result"
    }
   ],
   "source": [
    "find_an_artist()"
   ]
  },
  {
   "cell_type": "markdown",
   "metadata": {},
   "source": [
    "<h2>Function 6: Grab first ten shows' URLs and add to a list</h2>"
   ]
  },
  {
   "cell_type": "code",
   "execution_count": 326,
   "metadata": {},
   "outputs": [],
   "source": [
    "def create_list_of_artist_sets(setlist_link):\n",
    "    response = requests.get(setlist_link)\n",
    "    if response.status_code != 200:\n",
    "        print(\"Failed to connect with website -- output from Function 6\")\n",
    "        \n",
    "    \n",
    "    results_page = BeautifulSoup(response.content, 'lxml')\n",
    "    messy_list_show_links = results_page.find_all('div', class_='rightColumn col-xs-12 col-md-9')[0].find_all('h2')\n",
    "    \n",
    "    show_links_list = list()\n",
    "    \n",
    "    counter = 0\n",
    "    for show in messy_list_show_links:    \n",
    "        try:\n",
    "            raw_url = show.find('a').get('href')\n",
    "            actual_url = 'https://www.setlist.fm/'+ raw_url \n",
    "            show_links_list.append(actual_url)\n",
    "        except:\n",
    "            pass\n",
    "    return show_links_list"
   ]
  },
  {
   "cell_type": "code",
   "execution_count": 327,
   "metadata": {
    "scrolled": true
   },
   "outputs": [
    {
     "data": {
      "text/plain": [
       "['https://www.setlist.fm/setlist/billy-joel/2018/madison-square-garden-new-york-ny-6b97be66.html',\n",
       " 'https://www.setlist.fm/setlist/billy-joel/2018/madison-square-garden-new-york-ny-53963335.html',\n",
       " 'https://www.setlist.fm/setlist/billy-joel/2018/bbandt-field-winston-salem-nc-4396ab87.html',\n",
       " 'https://www.setlist.fm/setlist/billy-joel/2018/madison-square-garden-new-york-ny-23e91c6f.html',\n",
       " 'https://www.setlist.fm/setlist/billy-joel/2018/kauffman-stadium-kansas-city-mo-13e9dd61.html',\n",
       " 'https://www.setlist.fm/setlist/billy-joel/2018/wrigley-field-chicago-il-53e8535d.html',\n",
       " 'https://www.setlist.fm/setlist/billy-joel/2018/madison-square-garden-new-york-ny-73e8d2e9.html',\n",
       " 'https://www.setlist.fm/setlist/billy-joel/2018/fenway-park-boston-ma-23e8a49f.html',\n",
       " 'https://www.setlist.fm/setlist/billy-joel/2018/fenway-center-boston-ma-7be8d620.html',\n",
       " 'https://www.setlist.fm/setlist/billy-joel/2018/citizens-bank-park-philadelphia-pa-beb2536.html']"
      ]
     },
     "execution_count": 327,
     "metadata": {},
     "output_type": "execute_result"
    }
   ],
   "source": [
    "create_list_of_artist_sets(\"https://www.setlist.fm/search?query=billy%20joel\")"
   ]
  },
  {
   "cell_type": "markdown",
   "metadata": {},
   "source": [
    "<h2>Function 7: Combine the previous two functions. Enter an artist, find their setlist page and add their first page of show URLs to a list</h2>"
   ]
  },
  {
   "cell_type": "code",
   "execution_count": 334,
   "metadata": {},
   "outputs": [],
   "source": [
    "def find_artist_and_setlists():\n",
    "    artist_setlist_page = find_an_artist()\n",
    "    list_of_setlists = create_list_of_artist_sets(artist_setlist_page)\n",
    "    return list_of_setlists, artist_setlist_page"
   ]
  },
  {
   "cell_type": "markdown",
   "metadata": {},
   "source": [
    "<h4> Test out the function</h4>"
   ]
  },
  {
   "cell_type": "code",
   "execution_count": 336,
   "metadata": {
    "scrolled": true
   },
   "outputs": [
    {
     "name": "stdout",
     "output_type": "stream",
     "text": [
      " Please enter the name of an artistbilly joel\n"
     ]
    }
   ],
   "source": [
    "one, two = find_artist_and_setlists()"
   ]
  },
  {
   "cell_type": "markdown",
   "metadata": {},
   "source": [
    "<h2>Function 8: Combine previous two functions. From an artist first page of setlists, get the number of pages of setlists and return a list of links to each show</h2>"
   ]
  },
  {
   "cell_type": "code",
   "execution_count": 338,
   "metadata": {},
   "outputs": [
    {
     "data": {
      "text/plain": [
       "'https://www.setlist.fm/search?query=billy%20joel'"
      ]
     },
     "execution_count": 338,
     "metadata": {},
     "output_type": "execute_result"
    }
   ],
   "source": [
    "two"
   ]
  },
  {
   "cell_type": "code",
   "execution_count": 395,
   "metadata": {},
   "outputs": [],
   "source": [
    "def grab_all_setlists():\n",
    "    first_ten_setlists, artist_setlist_page = find_artist_and_setlists()\n",
    "    response = requests.get(artist_setlist_page)\n",
    "    \n",
    "    if response.status_code != 200:\n",
    "        print(\"Failure! Could not connect with setlist.fm -- output from Function 8\")\n",
    "\n",
    "    results_page = BeautifulSoup(response.content, 'lxml')\n",
    "\n",
    "    set_list_page_links = list()\n",
    "    pagenumber = 2    \n",
    "    \n",
    "    total_num_pages =  results_page.find_all('div', class_='col-xs-12 noTopBorder noTopPadding hidden-print text-center listPager-lg')\n",
    "    li_list = total_num_pages[0].find_all('li')\n",
    "    last_page_text = int(li_list[8].get_text())\n",
    "    \n",
    "    #total_num_pages =  int(results_page.find_all('div', class_='col-xs-12 noTopBorder noTopPadding hidden-print text-center listPager-lg')[0].find_all('li')[-2].get_text())\n",
    "\n",
    "    if last_page_text > 50:\n",
    "        print(\"We've found\", last_page_text, \"pages worth of music for this artist. That means\", last_page_text*10, \"shows!\")\n",
    "        user_decision = (input(\"Are you sure you want to proceed (Y/N)?\")).lower()[0]\n",
    "\n",
    "        if user_decision == \"n\":\n",
    "            print(\"Abort! Abort!\")\n",
    "\n",
    "        if user_decision == \"y\":\n",
    "            for num in range(last_page_text):\n",
    "                show_pages = 'https://www.setlist.fm/setlists/billy-joel-7bd6be40.html' + '?page=' + str(pagenumber) \n",
    "                set_list_page_links.append(show_pages)\n",
    "                pagenumber += 1\n",
    "        \n",
    "        set_list_page_links.pop()\n",
    "        \n",
    "        return first_ten_setlists, set_list_page_links "
   ]
  },
  {
   "cell_type": "code",
   "execution_count": 400,
   "metadata": {},
   "outputs": [
    {
     "name": "stdout",
     "output_type": "stream",
     "text": [
      " Please enter the name of an artistbilly joel\n",
      "We've found 166 pages worth of music for this artist. That means 1660 shows!\n",
      "Are you sure you want to proceed (Y/N)?y\n"
     ]
    }
   ],
   "source": [
    "the_first_ten, pages_2_on = grab_all_setlists()"
   ]
  },
  {
   "cell_type": "markdown",
   "metadata": {},
   "source": [
    "<h2>Function 8: Combine the previous three functions. Enter an artist, find their setlist page and add the first (most recent) 10 shows\n",
    "    to a dataframe</h2>\n"
   ]
  },
  {
   "cell_type": "code",
   "execution_count": 410,
   "metadata": {},
   "outputs": [
    {
     "data": {
      "text/plain": [
       "['https://www.setlist.fm/setlists/billy-joel-7bd6be40.html?page=2',\n",
       " 'https://www.setlist.fm/setlists/billy-joel-7bd6be40.html?page=3',\n",
       " 'https://www.setlist.fm/setlists/billy-joel-7bd6be40.html?page=4',\n",
       " 'https://www.setlist.fm/setlists/billy-joel-7bd6be40.html?page=5',\n",
       " 'https://www.setlist.fm/setlists/billy-joel-7bd6be40.html?page=6',\n",
       " 'https://www.setlist.fm/setlists/billy-joel-7bd6be40.html?page=7',\n",
       " 'https://www.setlist.fm/setlists/billy-joel-7bd6be40.html?page=8',\n",
       " 'https://www.setlist.fm/setlists/billy-joel-7bd6be40.html?page=9',\n",
       " 'https://www.setlist.fm/setlists/billy-joel-7bd6be40.html?page=10',\n",
       " 'https://www.setlist.fm/setlists/billy-joel-7bd6be40.html?page=11',\n",
       " 'https://www.setlist.fm/setlists/billy-joel-7bd6be40.html?page=12',\n",
       " 'https://www.setlist.fm/setlists/billy-joel-7bd6be40.html?page=13',\n",
       " 'https://www.setlist.fm/setlists/billy-joel-7bd6be40.html?page=14',\n",
       " 'https://www.setlist.fm/setlists/billy-joel-7bd6be40.html?page=15',\n",
       " 'https://www.setlist.fm/setlists/billy-joel-7bd6be40.html?page=16',\n",
       " 'https://www.setlist.fm/setlists/billy-joel-7bd6be40.html?page=17',\n",
       " 'https://www.setlist.fm/setlists/billy-joel-7bd6be40.html?page=18',\n",
       " 'https://www.setlist.fm/setlists/billy-joel-7bd6be40.html?page=19',\n",
       " 'https://www.setlist.fm/setlists/billy-joel-7bd6be40.html?page=20',\n",
       " 'https://www.setlist.fm/setlists/billy-joel-7bd6be40.html?page=21',\n",
       " 'https://www.setlist.fm/setlists/billy-joel-7bd6be40.html?page=22',\n",
       " 'https://www.setlist.fm/setlists/billy-joel-7bd6be40.html?page=23',\n",
       " 'https://www.setlist.fm/setlists/billy-joel-7bd6be40.html?page=24',\n",
       " 'https://www.setlist.fm/setlists/billy-joel-7bd6be40.html?page=25',\n",
       " 'https://www.setlist.fm/setlists/billy-joel-7bd6be40.html?page=26',\n",
       " 'https://www.setlist.fm/setlists/billy-joel-7bd6be40.html?page=27',\n",
       " 'https://www.setlist.fm/setlists/billy-joel-7bd6be40.html?page=28',\n",
       " 'https://www.setlist.fm/setlists/billy-joel-7bd6be40.html?page=29',\n",
       " 'https://www.setlist.fm/setlists/billy-joel-7bd6be40.html?page=30',\n",
       " 'https://www.setlist.fm/setlists/billy-joel-7bd6be40.html?page=31',\n",
       " 'https://www.setlist.fm/setlists/billy-joel-7bd6be40.html?page=32',\n",
       " 'https://www.setlist.fm/setlists/billy-joel-7bd6be40.html?page=33',\n",
       " 'https://www.setlist.fm/setlists/billy-joel-7bd6be40.html?page=34',\n",
       " 'https://www.setlist.fm/setlists/billy-joel-7bd6be40.html?page=35',\n",
       " 'https://www.setlist.fm/setlists/billy-joel-7bd6be40.html?page=36',\n",
       " 'https://www.setlist.fm/setlists/billy-joel-7bd6be40.html?page=37',\n",
       " 'https://www.setlist.fm/setlists/billy-joel-7bd6be40.html?page=38',\n",
       " 'https://www.setlist.fm/setlists/billy-joel-7bd6be40.html?page=39',\n",
       " 'https://www.setlist.fm/setlists/billy-joel-7bd6be40.html?page=40',\n",
       " 'https://www.setlist.fm/setlists/billy-joel-7bd6be40.html?page=41',\n",
       " 'https://www.setlist.fm/setlists/billy-joel-7bd6be40.html?page=42',\n",
       " 'https://www.setlist.fm/setlists/billy-joel-7bd6be40.html?page=43',\n",
       " 'https://www.setlist.fm/setlists/billy-joel-7bd6be40.html?page=44',\n",
       " 'https://www.setlist.fm/setlists/billy-joel-7bd6be40.html?page=45',\n",
       " 'https://www.setlist.fm/setlists/billy-joel-7bd6be40.html?page=46',\n",
       " 'https://www.setlist.fm/setlists/billy-joel-7bd6be40.html?page=47',\n",
       " 'https://www.setlist.fm/setlists/billy-joel-7bd6be40.html?page=48',\n",
       " 'https://www.setlist.fm/setlists/billy-joel-7bd6be40.html?page=49',\n",
       " 'https://www.setlist.fm/setlists/billy-joel-7bd6be40.html?page=50',\n",
       " 'https://www.setlist.fm/setlists/billy-joel-7bd6be40.html?page=51',\n",
       " 'https://www.setlist.fm/setlists/billy-joel-7bd6be40.html?page=52',\n",
       " 'https://www.setlist.fm/setlists/billy-joel-7bd6be40.html?page=53',\n",
       " 'https://www.setlist.fm/setlists/billy-joel-7bd6be40.html?page=54',\n",
       " 'https://www.setlist.fm/setlists/billy-joel-7bd6be40.html?page=55',\n",
       " 'https://www.setlist.fm/setlists/billy-joel-7bd6be40.html?page=56',\n",
       " 'https://www.setlist.fm/setlists/billy-joel-7bd6be40.html?page=57',\n",
       " 'https://www.setlist.fm/setlists/billy-joel-7bd6be40.html?page=58',\n",
       " 'https://www.setlist.fm/setlists/billy-joel-7bd6be40.html?page=59',\n",
       " 'https://www.setlist.fm/setlists/billy-joel-7bd6be40.html?page=60',\n",
       " 'https://www.setlist.fm/setlists/billy-joel-7bd6be40.html?page=61',\n",
       " 'https://www.setlist.fm/setlists/billy-joel-7bd6be40.html?page=62',\n",
       " 'https://www.setlist.fm/setlists/billy-joel-7bd6be40.html?page=63',\n",
       " 'https://www.setlist.fm/setlists/billy-joel-7bd6be40.html?page=64',\n",
       " 'https://www.setlist.fm/setlists/billy-joel-7bd6be40.html?page=65',\n",
       " 'https://www.setlist.fm/setlists/billy-joel-7bd6be40.html?page=66',\n",
       " 'https://www.setlist.fm/setlists/billy-joel-7bd6be40.html?page=67',\n",
       " 'https://www.setlist.fm/setlists/billy-joel-7bd6be40.html?page=68',\n",
       " 'https://www.setlist.fm/setlists/billy-joel-7bd6be40.html?page=69',\n",
       " 'https://www.setlist.fm/setlists/billy-joel-7bd6be40.html?page=70',\n",
       " 'https://www.setlist.fm/setlists/billy-joel-7bd6be40.html?page=71',\n",
       " 'https://www.setlist.fm/setlists/billy-joel-7bd6be40.html?page=72',\n",
       " 'https://www.setlist.fm/setlists/billy-joel-7bd6be40.html?page=73',\n",
       " 'https://www.setlist.fm/setlists/billy-joel-7bd6be40.html?page=74',\n",
       " 'https://www.setlist.fm/setlists/billy-joel-7bd6be40.html?page=75',\n",
       " 'https://www.setlist.fm/setlists/billy-joel-7bd6be40.html?page=76',\n",
       " 'https://www.setlist.fm/setlists/billy-joel-7bd6be40.html?page=77',\n",
       " 'https://www.setlist.fm/setlists/billy-joel-7bd6be40.html?page=78',\n",
       " 'https://www.setlist.fm/setlists/billy-joel-7bd6be40.html?page=79',\n",
       " 'https://www.setlist.fm/setlists/billy-joel-7bd6be40.html?page=80',\n",
       " 'https://www.setlist.fm/setlists/billy-joel-7bd6be40.html?page=81',\n",
       " 'https://www.setlist.fm/setlists/billy-joel-7bd6be40.html?page=82',\n",
       " 'https://www.setlist.fm/setlists/billy-joel-7bd6be40.html?page=83',\n",
       " 'https://www.setlist.fm/setlists/billy-joel-7bd6be40.html?page=84',\n",
       " 'https://www.setlist.fm/setlists/billy-joel-7bd6be40.html?page=85',\n",
       " 'https://www.setlist.fm/setlists/billy-joel-7bd6be40.html?page=86',\n",
       " 'https://www.setlist.fm/setlists/billy-joel-7bd6be40.html?page=87',\n",
       " 'https://www.setlist.fm/setlists/billy-joel-7bd6be40.html?page=88',\n",
       " 'https://www.setlist.fm/setlists/billy-joel-7bd6be40.html?page=89',\n",
       " 'https://www.setlist.fm/setlists/billy-joel-7bd6be40.html?page=90',\n",
       " 'https://www.setlist.fm/setlists/billy-joel-7bd6be40.html?page=91',\n",
       " 'https://www.setlist.fm/setlists/billy-joel-7bd6be40.html?page=92',\n",
       " 'https://www.setlist.fm/setlists/billy-joel-7bd6be40.html?page=93',\n",
       " 'https://www.setlist.fm/setlists/billy-joel-7bd6be40.html?page=94',\n",
       " 'https://www.setlist.fm/setlists/billy-joel-7bd6be40.html?page=95',\n",
       " 'https://www.setlist.fm/setlists/billy-joel-7bd6be40.html?page=96',\n",
       " 'https://www.setlist.fm/setlists/billy-joel-7bd6be40.html?page=97',\n",
       " 'https://www.setlist.fm/setlists/billy-joel-7bd6be40.html?page=98',\n",
       " 'https://www.setlist.fm/setlists/billy-joel-7bd6be40.html?page=99',\n",
       " 'https://www.setlist.fm/setlists/billy-joel-7bd6be40.html?page=100',\n",
       " 'https://www.setlist.fm/setlists/billy-joel-7bd6be40.html?page=101',\n",
       " 'https://www.setlist.fm/setlists/billy-joel-7bd6be40.html?page=102',\n",
       " 'https://www.setlist.fm/setlists/billy-joel-7bd6be40.html?page=103',\n",
       " 'https://www.setlist.fm/setlists/billy-joel-7bd6be40.html?page=104',\n",
       " 'https://www.setlist.fm/setlists/billy-joel-7bd6be40.html?page=105',\n",
       " 'https://www.setlist.fm/setlists/billy-joel-7bd6be40.html?page=106',\n",
       " 'https://www.setlist.fm/setlists/billy-joel-7bd6be40.html?page=107',\n",
       " 'https://www.setlist.fm/setlists/billy-joel-7bd6be40.html?page=108',\n",
       " 'https://www.setlist.fm/setlists/billy-joel-7bd6be40.html?page=109',\n",
       " 'https://www.setlist.fm/setlists/billy-joel-7bd6be40.html?page=110',\n",
       " 'https://www.setlist.fm/setlists/billy-joel-7bd6be40.html?page=111',\n",
       " 'https://www.setlist.fm/setlists/billy-joel-7bd6be40.html?page=112',\n",
       " 'https://www.setlist.fm/setlists/billy-joel-7bd6be40.html?page=113',\n",
       " 'https://www.setlist.fm/setlists/billy-joel-7bd6be40.html?page=114',\n",
       " 'https://www.setlist.fm/setlists/billy-joel-7bd6be40.html?page=115',\n",
       " 'https://www.setlist.fm/setlists/billy-joel-7bd6be40.html?page=116',\n",
       " 'https://www.setlist.fm/setlists/billy-joel-7bd6be40.html?page=117',\n",
       " 'https://www.setlist.fm/setlists/billy-joel-7bd6be40.html?page=118',\n",
       " 'https://www.setlist.fm/setlists/billy-joel-7bd6be40.html?page=119',\n",
       " 'https://www.setlist.fm/setlists/billy-joel-7bd6be40.html?page=120',\n",
       " 'https://www.setlist.fm/setlists/billy-joel-7bd6be40.html?page=121',\n",
       " 'https://www.setlist.fm/setlists/billy-joel-7bd6be40.html?page=122',\n",
       " 'https://www.setlist.fm/setlists/billy-joel-7bd6be40.html?page=123',\n",
       " 'https://www.setlist.fm/setlists/billy-joel-7bd6be40.html?page=124',\n",
       " 'https://www.setlist.fm/setlists/billy-joel-7bd6be40.html?page=125',\n",
       " 'https://www.setlist.fm/setlists/billy-joel-7bd6be40.html?page=126',\n",
       " 'https://www.setlist.fm/setlists/billy-joel-7bd6be40.html?page=127',\n",
       " 'https://www.setlist.fm/setlists/billy-joel-7bd6be40.html?page=128',\n",
       " 'https://www.setlist.fm/setlists/billy-joel-7bd6be40.html?page=129',\n",
       " 'https://www.setlist.fm/setlists/billy-joel-7bd6be40.html?page=130',\n",
       " 'https://www.setlist.fm/setlists/billy-joel-7bd6be40.html?page=131',\n",
       " 'https://www.setlist.fm/setlists/billy-joel-7bd6be40.html?page=132',\n",
       " 'https://www.setlist.fm/setlists/billy-joel-7bd6be40.html?page=133',\n",
       " 'https://www.setlist.fm/setlists/billy-joel-7bd6be40.html?page=134',\n",
       " 'https://www.setlist.fm/setlists/billy-joel-7bd6be40.html?page=135',\n",
       " 'https://www.setlist.fm/setlists/billy-joel-7bd6be40.html?page=136',\n",
       " 'https://www.setlist.fm/setlists/billy-joel-7bd6be40.html?page=137',\n",
       " 'https://www.setlist.fm/setlists/billy-joel-7bd6be40.html?page=138',\n",
       " 'https://www.setlist.fm/setlists/billy-joel-7bd6be40.html?page=139',\n",
       " 'https://www.setlist.fm/setlists/billy-joel-7bd6be40.html?page=140',\n",
       " 'https://www.setlist.fm/setlists/billy-joel-7bd6be40.html?page=141',\n",
       " 'https://www.setlist.fm/setlists/billy-joel-7bd6be40.html?page=142',\n",
       " 'https://www.setlist.fm/setlists/billy-joel-7bd6be40.html?page=143',\n",
       " 'https://www.setlist.fm/setlists/billy-joel-7bd6be40.html?page=144',\n",
       " 'https://www.setlist.fm/setlists/billy-joel-7bd6be40.html?page=145',\n",
       " 'https://www.setlist.fm/setlists/billy-joel-7bd6be40.html?page=146',\n",
       " 'https://www.setlist.fm/setlists/billy-joel-7bd6be40.html?page=147',\n",
       " 'https://www.setlist.fm/setlists/billy-joel-7bd6be40.html?page=148',\n",
       " 'https://www.setlist.fm/setlists/billy-joel-7bd6be40.html?page=149',\n",
       " 'https://www.setlist.fm/setlists/billy-joel-7bd6be40.html?page=150',\n",
       " 'https://www.setlist.fm/setlists/billy-joel-7bd6be40.html?page=151',\n",
       " 'https://www.setlist.fm/setlists/billy-joel-7bd6be40.html?page=152',\n",
       " 'https://www.setlist.fm/setlists/billy-joel-7bd6be40.html?page=153',\n",
       " 'https://www.setlist.fm/setlists/billy-joel-7bd6be40.html?page=154',\n",
       " 'https://www.setlist.fm/setlists/billy-joel-7bd6be40.html?page=155',\n",
       " 'https://www.setlist.fm/setlists/billy-joel-7bd6be40.html?page=156',\n",
       " 'https://www.setlist.fm/setlists/billy-joel-7bd6be40.html?page=157',\n",
       " 'https://www.setlist.fm/setlists/billy-joel-7bd6be40.html?page=158',\n",
       " 'https://www.setlist.fm/setlists/billy-joel-7bd6be40.html?page=159',\n",
       " 'https://www.setlist.fm/setlists/billy-joel-7bd6be40.html?page=160',\n",
       " 'https://www.setlist.fm/setlists/billy-joel-7bd6be40.html?page=161',\n",
       " 'https://www.setlist.fm/setlists/billy-joel-7bd6be40.html?page=162',\n",
       " 'https://www.setlist.fm/setlists/billy-joel-7bd6be40.html?page=163',\n",
       " 'https://www.setlist.fm/setlists/billy-joel-7bd6be40.html?page=164',\n",
       " 'https://www.setlist.fm/setlists/billy-joel-7bd6be40.html?page=165',\n",
       " 'https://www.setlist.fm/setlists/billy-joel-7bd6be40.html?page=166']"
      ]
     },
     "execution_count": 410,
     "metadata": {},
     "output_type": "execute_result"
    }
   ],
   "source": [
    "pages_2_on"
   ]
  },
  {
   "cell_type": "code",
   "execution_count": 403,
   "metadata": {
    "scrolled": true
   },
   "outputs": [
    {
     "data": {
      "text/plain": [
       "['https://www.setlist.fm/setlist/billy-joel/2018/madison-square-garden-new-york-ny-53963335.html',\n",
       " 'https://www.setlist.fm/setlist/billy-joel/2018/bbandt-field-winston-salem-nc-4396ab87.html',\n",
       " 'https://www.setlist.fm/setlist/billy-joel/2018/madison-square-garden-new-york-ny-23e91c6f.html',\n",
       " 'https://www.setlist.fm/setlist/billy-joel/2018/kauffman-stadium-kansas-city-mo-13e9dd61.html',\n",
       " 'https://www.setlist.fm/setlist/billy-joel/2018/wrigley-field-chicago-il-53e8535d.html',\n",
       " 'https://www.setlist.fm/setlist/billy-joel/2018/madison-square-garden-new-york-ny-73e8d2e9.html',\n",
       " 'https://www.setlist.fm/setlist/billy-joel/2018/fenway-park-boston-ma-23e8a49f.html',\n",
       " 'https://www.setlist.fm/setlist/billy-joel/2018/fenway-center-boston-ma-7be8d620.html',\n",
       " 'https://www.setlist.fm/setlist/billy-joel/2018/citizens-bank-park-philadelphia-pa-beb2536.html']"
      ]
     },
     "execution_count": 403,
     "metadata": {},
     "output_type": "execute_result"
    }
   ],
   "source": [
    "the_first_ten"
   ]
  },
  {
   "cell_type": "code",
   "execution_count": 411,
   "metadata": {},
   "outputs": [],
   "source": [
    "def create_master_df():\n",
    "    the_first_ten, pages_2_on = grab_all_setlists()\n",
    "    \n",
    "    all_shows_df = get_show_info_and_make_df(the_first_ten[0])\n",
    "    del the_first_ten[0]\n",
    "    \n",
    "    for show_url in the_first_ten:\n",
    "        show_df = get_show_info_and_make_df(show_url) #Create a df of the first show in the list (now show #2)\n",
    "        combo_frame = add_more_shows(all_shows_df, show_df) #combine first and second show dfs into a single df\n",
    "        all_shows_df = combo_frame #Overwrite the all_shows_df (which is the first show only) with the combo frame which is shows 1 and 2\n",
    "    \n",
    "    for page_url in pages_2_on:\n",
    "        next_ten_shows = create_list_of_artist_sets(show_url)\n",
    "        \n",
    "        for show_link in next_ten_show:\n",
    "            show_data = get_all_show_info(show_url) #Create a df of the first show in the list \n",
    "            show_as_df = add_all_show_info_to_df(show_data)\n",
    "            combo_frame = add_more_shows(all_shows_df, show_as_df)\n",
    "            all_shows_df = combo_frame\n",
    "\n",
    "    return all_shows_df \n",
    "\n"
   ]
  },
  {
   "cell_type": "code",
   "execution_count": 412,
   "metadata": {},
   "outputs": [
    {
     "name": "stdout",
     "output_type": "stream",
     "text": [
      " Please enter the name of an artistbilly joel\n",
      "Failed to connect with website\n",
      "Failed to connect with website\n"
     ]
    },
    {
     "ename": "IndexError",
     "evalue": "list index out of range",
     "output_type": "error",
     "traceback": [
      "\u001b[1;31m---------------------------------------------------------------------------\u001b[0m",
      "\u001b[1;31mIndexError\u001b[0m                                Traceback (most recent call last)",
      "\u001b[1;32m<ipython-input-412-c9ce8b9fc1c7>\u001b[0m in \u001b[0;36m<module>\u001b[1;34m()\u001b[0m\n\u001b[1;32m----> 1\u001b[1;33m \u001b[0mcreate_master_df\u001b[0m\u001b[1;33m(\u001b[0m\u001b[1;33m)\u001b[0m\u001b[1;33m\u001b[0m\u001b[0m\n\u001b[0m",
      "\u001b[1;32m<ipython-input-411-b54d2bdbfa90>\u001b[0m in \u001b[0;36mcreate_master_df\u001b[1;34m()\u001b[0m\n\u001b[0;32m      1\u001b[0m \u001b[1;32mdef\u001b[0m \u001b[0mcreate_master_df\u001b[0m\u001b[1;33m(\u001b[0m\u001b[1;33m)\u001b[0m\u001b[1;33m:\u001b[0m\u001b[1;33m\u001b[0m\u001b[0m\n\u001b[1;32m----> 2\u001b[1;33m     \u001b[0mthe_first_ten\u001b[0m\u001b[1;33m,\u001b[0m \u001b[0mpages_2_on\u001b[0m \u001b[1;33m=\u001b[0m \u001b[0mgrab_all_setlists\u001b[0m\u001b[1;33m(\u001b[0m\u001b[1;33m)\u001b[0m\u001b[1;33m\u001b[0m\u001b[0m\n\u001b[0m\u001b[0;32m      3\u001b[0m \u001b[1;33m\u001b[0m\u001b[0m\n\u001b[0;32m      4\u001b[0m     \u001b[0mall_shows_df\u001b[0m \u001b[1;33m=\u001b[0m \u001b[0mget_show_info_and_make_df\u001b[0m\u001b[1;33m(\u001b[0m\u001b[0mthe_first_ten\u001b[0m\u001b[1;33m[\u001b[0m\u001b[1;36m0\u001b[0m\u001b[1;33m]\u001b[0m\u001b[1;33m)\u001b[0m\u001b[1;33m\u001b[0m\u001b[0m\n\u001b[0;32m      5\u001b[0m     \u001b[1;32mdel\u001b[0m \u001b[0mthe_first_ten\u001b[0m\u001b[1;33m[\u001b[0m\u001b[1;36m0\u001b[0m\u001b[1;33m]\u001b[0m\u001b[1;33m\u001b[0m\u001b[0m\n",
      "\u001b[1;32m<ipython-input-395-f1db54b4134a>\u001b[0m in \u001b[0;36mgrab_all_setlists\u001b[1;34m()\u001b[0m\n\u001b[0;32m      1\u001b[0m \u001b[1;32mdef\u001b[0m \u001b[0mgrab_all_setlists\u001b[0m\u001b[1;33m(\u001b[0m\u001b[1;33m)\u001b[0m\u001b[1;33m:\u001b[0m\u001b[1;33m\u001b[0m\u001b[0m\n\u001b[1;32m----> 2\u001b[1;33m     \u001b[0mfirst_ten_setlists\u001b[0m\u001b[1;33m,\u001b[0m \u001b[0martist_setlist_page\u001b[0m \u001b[1;33m=\u001b[0m \u001b[0mfind_artist_and_setlists\u001b[0m\u001b[1;33m(\u001b[0m\u001b[1;33m)\u001b[0m\u001b[1;33m\u001b[0m\u001b[0m\n\u001b[0m\u001b[0;32m      3\u001b[0m     \u001b[0mresponse\u001b[0m \u001b[1;33m=\u001b[0m \u001b[0mrequests\u001b[0m\u001b[1;33m.\u001b[0m\u001b[0mget\u001b[0m\u001b[1;33m(\u001b[0m\u001b[0martist_setlist_page\u001b[0m\u001b[1;33m)\u001b[0m\u001b[1;33m\u001b[0m\u001b[0m\n\u001b[0;32m      4\u001b[0m \u001b[1;33m\u001b[0m\u001b[0m\n\u001b[0;32m      5\u001b[0m     \u001b[1;32mif\u001b[0m \u001b[0mresponse\u001b[0m\u001b[1;33m.\u001b[0m\u001b[0mstatus_code\u001b[0m \u001b[1;33m!=\u001b[0m \u001b[1;36m200\u001b[0m\u001b[1;33m:\u001b[0m\u001b[1;33m\u001b[0m\u001b[0m\n",
      "\u001b[1;32m<ipython-input-334-40b5b0356903>\u001b[0m in \u001b[0;36mfind_artist_and_setlists\u001b[1;34m()\u001b[0m\n\u001b[0;32m      1\u001b[0m \u001b[1;32mdef\u001b[0m \u001b[0mfind_artist_and_setlists\u001b[0m\u001b[1;33m(\u001b[0m\u001b[1;33m)\u001b[0m\u001b[1;33m:\u001b[0m\u001b[1;33m\u001b[0m\u001b[0m\n\u001b[0;32m      2\u001b[0m     \u001b[0martist_setlist_page\u001b[0m \u001b[1;33m=\u001b[0m \u001b[0mfind_an_artist\u001b[0m\u001b[1;33m(\u001b[0m\u001b[1;33m)\u001b[0m\u001b[1;33m\u001b[0m\u001b[0m\n\u001b[1;32m----> 3\u001b[1;33m     \u001b[0mlist_of_setlists\u001b[0m \u001b[1;33m=\u001b[0m \u001b[0mcreate_list_of_artist_sets\u001b[0m\u001b[1;33m(\u001b[0m\u001b[0martist_setlist_page\u001b[0m\u001b[1;33m)\u001b[0m\u001b[1;33m\u001b[0m\u001b[0m\n\u001b[0m\u001b[0;32m      4\u001b[0m     \u001b[1;32mreturn\u001b[0m \u001b[0mlist_of_setlists\u001b[0m\u001b[1;33m,\u001b[0m \u001b[0martist_setlist_page\u001b[0m\u001b[1;33m\u001b[0m\u001b[0m\n",
      "\u001b[1;32m<ipython-input-326-49e1e0f04750>\u001b[0m in \u001b[0;36mcreate_list_of_artist_sets\u001b[1;34m(setlist_link)\u001b[0m\n\u001b[0;32m      6\u001b[0m \u001b[1;33m\u001b[0m\u001b[0m\n\u001b[0;32m      7\u001b[0m     \u001b[0mresults_page\u001b[0m \u001b[1;33m=\u001b[0m \u001b[0mBeautifulSoup\u001b[0m\u001b[1;33m(\u001b[0m\u001b[0mresponse\u001b[0m\u001b[1;33m.\u001b[0m\u001b[0mcontent\u001b[0m\u001b[1;33m,\u001b[0m \u001b[1;34m'lxml'\u001b[0m\u001b[1;33m)\u001b[0m\u001b[1;33m\u001b[0m\u001b[0m\n\u001b[1;32m----> 8\u001b[1;33m     \u001b[0mmessy_list_show_links\u001b[0m \u001b[1;33m=\u001b[0m \u001b[0mresults_page\u001b[0m\u001b[1;33m.\u001b[0m\u001b[0mfind_all\u001b[0m\u001b[1;33m(\u001b[0m\u001b[1;34m'div'\u001b[0m\u001b[1;33m,\u001b[0m \u001b[0mclass_\u001b[0m\u001b[1;33m=\u001b[0m\u001b[1;34m'rightColumn col-xs-12 col-md-9'\u001b[0m\u001b[1;33m)\u001b[0m\u001b[1;33m[\u001b[0m\u001b[1;36m0\u001b[0m\u001b[1;33m]\u001b[0m\u001b[1;33m.\u001b[0m\u001b[0mfind_all\u001b[0m\u001b[1;33m(\u001b[0m\u001b[1;34m'h2'\u001b[0m\u001b[1;33m)\u001b[0m\u001b[1;33m\u001b[0m\u001b[0m\n\u001b[0m\u001b[0;32m      9\u001b[0m \u001b[1;33m\u001b[0m\u001b[0m\n\u001b[0;32m     10\u001b[0m     \u001b[0mshow_links_list\u001b[0m \u001b[1;33m=\u001b[0m \u001b[0mlist\u001b[0m\u001b[1;33m(\u001b[0m\u001b[1;33m)\u001b[0m\u001b[1;33m\u001b[0m\u001b[0m\n",
      "\u001b[1;31mIndexError\u001b[0m: list index out of range"
     ]
    }
   ],
   "source": [
    "#create_master_df()"
   ]
  },
  {
   "cell_type": "raw",
   "metadata": {},
   "source": []
  }
 ],
 "metadata": {
  "kernelspec": {
   "display_name": "Python 3",
   "language": "python",
   "name": "python3"
  },
  "language_info": {
   "codemirror_mode": {
    "name": "ipython",
    "version": 3
   },
   "file_extension": ".py",
   "mimetype": "text/x-python",
   "name": "python",
   "nbconvert_exporter": "python",
   "pygments_lexer": "ipython3",
   "version": "3.7.0"
  }
 },
 "nbformat": 4,
 "nbformat_minor": 2
}
